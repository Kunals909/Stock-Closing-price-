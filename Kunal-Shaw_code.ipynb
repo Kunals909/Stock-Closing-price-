{
 "cells": [
  {
   "cell_type": "markdown",
   "id": "97dbd6c6",
   "metadata": {},
   "source": [
    "## Stock  Price Prediction"
   ]
  },
  {
   "cell_type": "markdown",
   "id": "b54e05fc",
   "metadata": {},
   "source": [
    "## Import Necessary Files"
   ]
  },
  {
   "cell_type": "code",
   "execution_count": 50,
   "id": "682aab9e",
   "metadata": {},
   "outputs": [],
   "source": [
    "import numpy as np\n",
    "import pandas as pd\n",
    "import matplotlib.pyplot as plt \n",
    "import seaborn as sns\n",
    "\n",
    "\n",
    "import sklearn\n",
    "from sklearn.model_selection import train_test_split\n",
    "from sklearn.preprocessing import MinMaxScaler\n",
    "from sklearn.preprocessing import PolynomialFeatures\n",
    "from sklearn.preprocessing import scale\n",
    "from sklearn.feature_selection import RFE\n",
    "from sklearn.linear_model import LinearRegression\n",
    "from sklearn.model_selection import cross_val_score\n",
    "from sklearn.model_selection import KFold\n",
    "from sklearn.model_selection import GridSearchCV\n",
    "from sklearn.pipeline import make_pipeline\n",
    "import warnings\n",
    "warnings.filterwarnings('ignore')"
   ]
  },
  {
   "cell_type": "markdown",
   "id": "27f4f821",
   "metadata": {},
   "source": [
    "## Loading of Data"
   ]
  },
  {
   "cell_type": "code",
   "execution_count": 51,
   "id": "91cd45d0",
   "metadata": {},
   "outputs": [],
   "source": [
    "\n",
    "trn_d=pd.read_csv(\"stocknet_trn_data.csv\")\n",
    "trn_trg=pd.read_csv(\"stocknet_trn_data_targets.csv\",header=None)\n",
    "tst_d=pd.read_csv(\"stocknet_tst_data.csv\")"
   ]
  },
  {
   "cell_type": "markdown",
   "id": "ec6ee105",
   "metadata": {},
   "source": [
    "## Data Preprocessing"
   ]
  },
  {
   "cell_type": "code",
   "execution_count": 52,
   "id": "39d2e99b",
   "metadata": {},
   "outputs": [],
   "source": [
    "\n",
    "trn_trg.columns=[\"Day\",\"Close\"]\n"
   ]
  },
  {
   "cell_type": "code",
   "execution_count": 53,
   "id": "5118f425",
   "metadata": {
    "scrolled": true
   },
   "outputs": [
    {
     "data": {
      "text/html": [
       "<div>\n",
       "<style scoped>\n",
       "    .dataframe tbody tr th:only-of-type {\n",
       "        vertical-align: middle;\n",
       "    }\n",
       "\n",
       "    .dataframe tbody tr th {\n",
       "        vertical-align: top;\n",
       "    }\n",
       "\n",
       "    .dataframe thead th {\n",
       "        text-align: right;\n",
       "    }\n",
       "</style>\n",
       "<table border=\"1\" class=\"dataframe\">\n",
       "  <thead>\n",
       "    <tr style=\"text-align: right;\">\n",
       "      <th></th>\n",
       "      <th>Open</th>\n",
       "      <th>High</th>\n",
       "      <th>Low</th>\n",
       "      <th>Volume</th>\n",
       "    </tr>\n",
       "  </thead>\n",
       "  <tbody>\n",
       "    <tr>\n",
       "      <th>0</th>\n",
       "      <td>75.430000</td>\n",
       "      <td>75.910004</td>\n",
       "      <td>75.139999</td>\n",
       "      <td>3436700.0</td>\n",
       "    </tr>\n",
       "    <tr>\n",
       "      <th>1</th>\n",
       "      <td>124.930000</td>\n",
       "      <td>124.940002</td>\n",
       "      <td>124.169998</td>\n",
       "      <td>2366700.0</td>\n",
       "    </tr>\n",
       "    <tr>\n",
       "      <th>2</th>\n",
       "      <td>84.339996</td>\n",
       "      <td>84.370003</td>\n",
       "      <td>82.370003</td>\n",
       "      <td>11338700.0</td>\n",
       "    </tr>\n",
       "    <tr>\n",
       "      <th>3</th>\n",
       "      <td>56.770000</td>\n",
       "      <td>57.150002</td>\n",
       "      <td>56.529999</td>\n",
       "      <td>413300.0</td>\n",
       "    </tr>\n",
       "    <tr>\n",
       "      <th>4</th>\n",
       "      <td>47.419998</td>\n",
       "      <td>48.090000</td>\n",
       "      <td>46.759998</td>\n",
       "      <td>9531100.0</td>\n",
       "    </tr>\n",
       "    <tr>\n",
       "      <th>...</th>\n",
       "      <td>...</td>\n",
       "      <td>...</td>\n",
       "      <td>...</td>\n",
       "      <td>...</td>\n",
       "    </tr>\n",
       "    <tr>\n",
       "      <th>97727</th>\n",
       "      <td>103.650002</td>\n",
       "      <td>103.809998</td>\n",
       "      <td>103.089996</td>\n",
       "      <td>3678200.0</td>\n",
       "    </tr>\n",
       "    <tr>\n",
       "      <th>97728</th>\n",
       "      <td>64.419998</td>\n",
       "      <td>64.730003</td>\n",
       "      <td>64.190002</td>\n",
       "      <td>20273100.0</td>\n",
       "    </tr>\n",
       "    <tr>\n",
       "      <th>97729</th>\n",
       "      <td>581.070007</td>\n",
       "      <td>581.400024</td>\n",
       "      <td>571.070007</td>\n",
       "      <td>3416500.0</td>\n",
       "    </tr>\n",
       "    <tr>\n",
       "      <th>97730</th>\n",
       "      <td>120.650002</td>\n",
       "      <td>120.650002</td>\n",
       "      <td>114.959999</td>\n",
       "      <td>13261700.0</td>\n",
       "    </tr>\n",
       "    <tr>\n",
       "      <th>97731</th>\n",
       "      <td>64.870003</td>\n",
       "      <td>64.959999</td>\n",
       "      <td>64.309998</td>\n",
       "      <td>667000.0</td>\n",
       "    </tr>\n",
       "  </tbody>\n",
       "</table>\n",
       "<p>97732 rows × 4 columns</p>\n",
       "</div>"
      ],
      "text/plain": [
       "             Open        High         Low      Volume\n",
       "0       75.430000   75.910004   75.139999   3436700.0\n",
       "1      124.930000  124.940002  124.169998   2366700.0\n",
       "2       84.339996   84.370003   82.370003  11338700.0\n",
       "3       56.770000   57.150002   56.529999    413300.0\n",
       "4       47.419998   48.090000   46.759998   9531100.0\n",
       "...           ...         ...         ...         ...\n",
       "97727  103.650002  103.809998  103.089996   3678200.0\n",
       "97728   64.419998   64.730003   64.190002  20273100.0\n",
       "97729  581.070007  581.400024  571.070007   3416500.0\n",
       "97730  120.650002  120.650002  114.959999  13261700.0\n",
       "97731   64.870003   64.959999   64.309998    667000.0\n",
       "\n",
       "[97732 rows x 4 columns]"
      ]
     },
     "execution_count": 53,
     "metadata": {},
     "output_type": "execute_result"
    }
   ],
   "source": [
    "trn_d"
   ]
  },
  {
   "cell_type": "code",
   "execution_count": 54,
   "id": "37b341da",
   "metadata": {},
   "outputs": [
    {
     "data": {
      "text/html": [
       "<div>\n",
       "<style scoped>\n",
       "    .dataframe tbody tr th:only-of-type {\n",
       "        vertical-align: middle;\n",
       "    }\n",
       "\n",
       "    .dataframe tbody tr th {\n",
       "        vertical-align: top;\n",
       "    }\n",
       "\n",
       "    .dataframe thead th {\n",
       "        text-align: right;\n",
       "    }\n",
       "</style>\n",
       "<table border=\"1\" class=\"dataframe\">\n",
       "  <thead>\n",
       "    <tr style=\"text-align: right;\">\n",
       "      <th></th>\n",
       "      <th>Open</th>\n",
       "      <th>High</th>\n",
       "      <th>Low</th>\n",
       "      <th>Volume</th>\n",
       "    </tr>\n",
       "  </thead>\n",
       "  <tbody>\n",
       "    <tr>\n",
       "      <th>0</th>\n",
       "      <td>26.299999</td>\n",
       "      <td>26.520000</td>\n",
       "      <td>25.959999</td>\n",
       "      <td>32642100</td>\n",
       "    </tr>\n",
       "    <tr>\n",
       "      <th>1</th>\n",
       "      <td>95.550003</td>\n",
       "      <td>95.739998</td>\n",
       "      <td>94.019997</td>\n",
       "      <td>1826300</td>\n",
       "    </tr>\n",
       "    <tr>\n",
       "      <th>2</th>\n",
       "      <td>54.770000</td>\n",
       "      <td>55.360001</td>\n",
       "      <td>54.590000</td>\n",
       "      <td>5656800</td>\n",
       "    </tr>\n",
       "    <tr>\n",
       "      <th>3</th>\n",
       "      <td>125.589996</td>\n",
       "      <td>125.820000</td>\n",
       "      <td>123.660004</td>\n",
       "      <td>4151600</td>\n",
       "    </tr>\n",
       "    <tr>\n",
       "      <th>4</th>\n",
       "      <td>20.709999</td>\n",
       "      <td>20.809999</td>\n",
       "      <td>20.670000</td>\n",
       "      <td>10489800</td>\n",
       "    </tr>\n",
       "    <tr>\n",
       "      <th>...</th>\n",
       "      <td>...</td>\n",
       "      <td>...</td>\n",
       "      <td>...</td>\n",
       "      <td>...</td>\n",
       "    </tr>\n",
       "    <tr>\n",
       "      <th>10855</th>\n",
       "      <td>51.660000</td>\n",
       "      <td>52.919998</td>\n",
       "      <td>49.919998</td>\n",
       "      <td>87000</td>\n",
       "    </tr>\n",
       "    <tr>\n",
       "      <th>10856</th>\n",
       "      <td>39.549999</td>\n",
       "      <td>40.619999</td>\n",
       "      <td>39.189999</td>\n",
       "      <td>35177200</td>\n",
       "    </tr>\n",
       "    <tr>\n",
       "      <th>10857</th>\n",
       "      <td>22.780001</td>\n",
       "      <td>22.900000</td>\n",
       "      <td>22.389999</td>\n",
       "      <td>9404100</td>\n",
       "    </tr>\n",
       "    <tr>\n",
       "      <th>10858</th>\n",
       "      <td>33.750000</td>\n",
       "      <td>34.060001</td>\n",
       "      <td>33.580002</td>\n",
       "      <td>26179000</td>\n",
       "    </tr>\n",
       "    <tr>\n",
       "      <th>10859</th>\n",
       "      <td>91.010002</td>\n",
       "      <td>91.680000</td>\n",
       "      <td>89.970001</td>\n",
       "      <td>4675300</td>\n",
       "    </tr>\n",
       "  </tbody>\n",
       "</table>\n",
       "<p>10860 rows × 4 columns</p>\n",
       "</div>"
      ],
      "text/plain": [
       "             Open        High         Low    Volume\n",
       "0       26.299999   26.520000   25.959999  32642100\n",
       "1       95.550003   95.739998   94.019997   1826300\n",
       "2       54.770000   55.360001   54.590000   5656800\n",
       "3      125.589996  125.820000  123.660004   4151600\n",
       "4       20.709999   20.809999   20.670000  10489800\n",
       "...           ...         ...         ...       ...\n",
       "10855   51.660000   52.919998   49.919998     87000\n",
       "10856   39.549999   40.619999   39.189999  35177200\n",
       "10857   22.780001   22.900000   22.389999   9404100\n",
       "10858   33.750000   34.060001   33.580002  26179000\n",
       "10859   91.010002   91.680000   89.970001   4675300\n",
       "\n",
       "[10860 rows x 4 columns]"
      ]
     },
     "execution_count": 54,
     "metadata": {},
     "output_type": "execute_result"
    }
   ],
   "source": [
    "tst_d"
   ]
  },
  {
   "cell_type": "markdown",
   "id": "a116a22b",
   "metadata": {},
   "source": [
    "## Null Values"
   ]
  },
  {
   "cell_type": "code",
   "execution_count": 55,
   "id": "19f972ba",
   "metadata": {},
   "outputs": [
    {
     "name": "stdout",
     "output_type": "stream",
     "text": [
      "Train_data \n",
      " Open      3\n",
      "High      3\n",
      "Low       3\n",
      "Volume    3\n",
      "dtype: int64\n",
      "\n",
      "\n",
      "Train_data_label \n",
      " Day      0\n",
      "Close    3\n",
      "dtype: int64\n",
      "\n",
      "\n",
      "Test_data \n",
      " Open      0\n",
      "High      0\n",
      "Low       0\n",
      "Volume    0\n",
      "dtype: int64\n"
     ]
    }
   ],
   "source": [
    "print(\"Train_data\",'\\n',trn_d.isnull().sum())\n",
    "print('\\n')\n",
    "print(\"Train_data_label\",'\\n',trn_trg.isnull().sum())\n",
    "print('\\n')\n",
    "print(\"Test_data\",'\\n',tst_d.isnull().sum())"
   ]
  },
  {
   "cell_type": "code",
   "execution_count": 56,
   "id": "a669b856",
   "metadata": {},
   "outputs": [],
   "source": [
    "## Merging of target variable with data\n",
    "trn_d=pd.concat([trn_d,trn_trg],axis=1)"
   ]
  },
  {
   "cell_type": "code",
   "execution_count": 57,
   "id": "8017039f",
   "metadata": {},
   "outputs": [
    {
     "data": {
      "text/html": [
       "<div>\n",
       "<style scoped>\n",
       "    .dataframe tbody tr th:only-of-type {\n",
       "        vertical-align: middle;\n",
       "    }\n",
       "\n",
       "    .dataframe tbody tr th {\n",
       "        vertical-align: top;\n",
       "    }\n",
       "\n",
       "    .dataframe thead th {\n",
       "        text-align: right;\n",
       "    }\n",
       "</style>\n",
       "<table border=\"1\" class=\"dataframe\">\n",
       "  <thead>\n",
       "    <tr style=\"text-align: right;\">\n",
       "      <th></th>\n",
       "      <th>Open</th>\n",
       "      <th>High</th>\n",
       "      <th>Low</th>\n",
       "      <th>Volume</th>\n",
       "      <th>Day</th>\n",
       "      <th>Close</th>\n",
       "    </tr>\n",
       "  </thead>\n",
       "  <tbody>\n",
       "    <tr>\n",
       "      <th>0</th>\n",
       "      <td>75.430000</td>\n",
       "      <td>75.910004</td>\n",
       "      <td>75.139999</td>\n",
       "      <td>3436700.0</td>\n",
       "      <td>d1</td>\n",
       "      <td>75.650002</td>\n",
       "    </tr>\n",
       "    <tr>\n",
       "      <th>1</th>\n",
       "      <td>124.930000</td>\n",
       "      <td>124.940002</td>\n",
       "      <td>124.169998</td>\n",
       "      <td>2366700.0</td>\n",
       "      <td>d2</td>\n",
       "      <td>124.449997</td>\n",
       "    </tr>\n",
       "    <tr>\n",
       "      <th>2</th>\n",
       "      <td>84.339996</td>\n",
       "      <td>84.370003</td>\n",
       "      <td>82.370003</td>\n",
       "      <td>11338700.0</td>\n",
       "      <td>d3</td>\n",
       "      <td>82.660004</td>\n",
       "    </tr>\n",
       "    <tr>\n",
       "      <th>3</th>\n",
       "      <td>56.770000</td>\n",
       "      <td>57.150002</td>\n",
       "      <td>56.529999</td>\n",
       "      <td>413300.0</td>\n",
       "      <td>d4</td>\n",
       "      <td>57.009998</td>\n",
       "    </tr>\n",
       "    <tr>\n",
       "      <th>4</th>\n",
       "      <td>47.419998</td>\n",
       "      <td>48.090000</td>\n",
       "      <td>46.759998</td>\n",
       "      <td>9531100.0</td>\n",
       "      <td>d5</td>\n",
       "      <td>47.860001</td>\n",
       "    </tr>\n",
       "    <tr>\n",
       "      <th>...</th>\n",
       "      <td>...</td>\n",
       "      <td>...</td>\n",
       "      <td>...</td>\n",
       "      <td>...</td>\n",
       "      <td>...</td>\n",
       "      <td>...</td>\n",
       "    </tr>\n",
       "    <tr>\n",
       "      <th>97727</th>\n",
       "      <td>103.650002</td>\n",
       "      <td>103.809998</td>\n",
       "      <td>103.089996</td>\n",
       "      <td>3678200.0</td>\n",
       "      <td>d97728</td>\n",
       "      <td>103.230003</td>\n",
       "    </tr>\n",
       "    <tr>\n",
       "      <th>97728</th>\n",
       "      <td>64.419998</td>\n",
       "      <td>64.730003</td>\n",
       "      <td>64.190002</td>\n",
       "      <td>20273100.0</td>\n",
       "      <td>d97729</td>\n",
       "      <td>64.620003</td>\n",
       "    </tr>\n",
       "    <tr>\n",
       "      <th>97729</th>\n",
       "      <td>581.070007</td>\n",
       "      <td>581.400024</td>\n",
       "      <td>571.070007</td>\n",
       "      <td>3416500.0</td>\n",
       "      <td>d97730</td>\n",
       "      <td>575.140015</td>\n",
       "    </tr>\n",
       "    <tr>\n",
       "      <th>97730</th>\n",
       "      <td>120.650002</td>\n",
       "      <td>120.650002</td>\n",
       "      <td>114.959999</td>\n",
       "      <td>13261700.0</td>\n",
       "      <td>d97731</td>\n",
       "      <td>115.400002</td>\n",
       "    </tr>\n",
       "    <tr>\n",
       "      <th>97731</th>\n",
       "      <td>64.870003</td>\n",
       "      <td>64.959999</td>\n",
       "      <td>64.309998</td>\n",
       "      <td>667000.0</td>\n",
       "      <td>d97732</td>\n",
       "      <td>64.720001</td>\n",
       "    </tr>\n",
       "  </tbody>\n",
       "</table>\n",
       "<p>97732 rows × 6 columns</p>\n",
       "</div>"
      ],
      "text/plain": [
       "             Open        High         Low      Volume     Day       Close\n",
       "0       75.430000   75.910004   75.139999   3436700.0      d1   75.650002\n",
       "1      124.930000  124.940002  124.169998   2366700.0      d2  124.449997\n",
       "2       84.339996   84.370003   82.370003  11338700.0      d3   82.660004\n",
       "3       56.770000   57.150002   56.529999    413300.0      d4   57.009998\n",
       "4       47.419998   48.090000   46.759998   9531100.0      d5   47.860001\n",
       "...           ...         ...         ...         ...     ...         ...\n",
       "97727  103.650002  103.809998  103.089996   3678200.0  d97728  103.230003\n",
       "97728   64.419998   64.730003   64.190002  20273100.0  d97729   64.620003\n",
       "97729  581.070007  581.400024  571.070007   3416500.0  d97730  575.140015\n",
       "97730  120.650002  120.650002  114.959999  13261700.0  d97731  115.400002\n",
       "97731   64.870003   64.959999   64.309998    667000.0  d97732   64.720001\n",
       "\n",
       "[97732 rows x 6 columns]"
      ]
     },
     "execution_count": 57,
     "metadata": {},
     "output_type": "execute_result"
    }
   ],
   "source": [
    "trn_d"
   ]
  },
  {
   "cell_type": "markdown",
   "id": "fc842e47",
   "metadata": {},
   "source": [
    "## Data Analysis"
   ]
  },
  {
   "cell_type": "code",
   "execution_count": 58,
   "id": "3f95a5fe",
   "metadata": {},
   "outputs": [
    {
     "name": "stdout",
     "output_type": "stream",
     "text": [
      "            Open      High       Low    Volume     Close\n",
      "Open    1.000000  0.999988  0.999988 -0.054682  0.999974\n",
      "High    0.999988  1.000000  0.999987 -0.054687  0.999989\n",
      "Low     0.999988  0.999987  1.000000 -0.054680  0.999988\n",
      "Volume -0.054682 -0.054687 -0.054680  1.000000 -0.054684\n",
      "Close   0.999974  0.999989  0.999988 -0.054684  1.000000\n"
     ]
    }
   ],
   "source": [
    "## Corellation of all features\n",
    "print(trn_d.corr())"
   ]
  },
  {
   "cell_type": "code",
   "execution_count": 59,
   "id": "cb3060b2",
   "metadata": {},
   "outputs": [
    {
     "data": {
      "text/plain": [
       "<AxesSubplot:>"
      ]
     },
     "execution_count": 59,
     "metadata": {},
     "output_type": "execute_result"
    },
    {
     "data": {
      "image/png": "[encoded data removed]",
      "text/plain": [
       "<Figure size 432x288 with 2 Axes>"
      ]
     },
     "metadata": {
      "needs_background": "light"
     },
     "output_type": "display_data"
    }
   ],
   "source": [
    "## Correlation plot\n",
    "\n",
    "a=trn_d.corr()\n",
    "sns.heatmap(a,cmap='Wistia', annot=True)"
   ]
  },
  {
   "cell_type": "code",
   "execution_count": 60,
   "id": "8b1f04cf",
   "metadata": {},
   "outputs": [],
   "source": [
    "# Droping Day column\n",
    "trn_d.drop(\"Day\",axis='columns',inplace=True)"
   ]
  },
  {
   "cell_type": "code",
   "execution_count": 61,
   "id": "ceb08430",
   "metadata": {
    "scrolled": false
   },
   "outputs": [
    {
     "data": {
      "text/html": [
       "<div>\n",
       "<style scoped>\n",
       "    .dataframe tbody tr th:only-of-type {\n",
       "        vertical-align: middle;\n",
       "    }\n",
       "\n",
       "    .dataframe tbody tr th {\n",
       "        vertical-align: top;\n",
       "    }\n",
       "\n",
       "    .dataframe thead th {\n",
       "        text-align: right;\n",
       "    }\n",
       "</style>\n",
       "<table border=\"1\" class=\"dataframe\">\n",
       "  <thead>\n",
       "    <tr style=\"text-align: right;\">\n",
       "      <th></th>\n",
       "      <th>Open</th>\n",
       "      <th>High</th>\n",
       "      <th>Low</th>\n",
       "      <th>Volume</th>\n",
       "      <th>Close</th>\n",
       "    </tr>\n",
       "  </thead>\n",
       "  <tbody>\n",
       "    <tr>\n",
       "      <th>0</th>\n",
       "      <td>75.430000</td>\n",
       "      <td>75.910004</td>\n",
       "      <td>75.139999</td>\n",
       "      <td>3436700.0</td>\n",
       "      <td>75.650002</td>\n",
       "    </tr>\n",
       "    <tr>\n",
       "      <th>1</th>\n",
       "      <td>124.930000</td>\n",
       "      <td>124.940002</td>\n",
       "      <td>124.169998</td>\n",
       "      <td>2366700.0</td>\n",
       "      <td>124.449997</td>\n",
       "    </tr>\n",
       "    <tr>\n",
       "      <th>2</th>\n",
       "      <td>84.339996</td>\n",
       "      <td>84.370003</td>\n",
       "      <td>82.370003</td>\n",
       "      <td>11338700.0</td>\n",
       "      <td>82.660004</td>\n",
       "    </tr>\n",
       "    <tr>\n",
       "      <th>3</th>\n",
       "      <td>56.770000</td>\n",
       "      <td>57.150002</td>\n",
       "      <td>56.529999</td>\n",
       "      <td>413300.0</td>\n",
       "      <td>57.009998</td>\n",
       "    </tr>\n",
       "    <tr>\n",
       "      <th>4</th>\n",
       "      <td>47.419998</td>\n",
       "      <td>48.090000</td>\n",
       "      <td>46.759998</td>\n",
       "      <td>9531100.0</td>\n",
       "      <td>47.860001</td>\n",
       "    </tr>\n",
       "    <tr>\n",
       "      <th>...</th>\n",
       "      <td>...</td>\n",
       "      <td>...</td>\n",
       "      <td>...</td>\n",
       "      <td>...</td>\n",
       "      <td>...</td>\n",
       "    </tr>\n",
       "    <tr>\n",
       "      <th>97727</th>\n",
       "      <td>103.650002</td>\n",
       "      <td>103.809998</td>\n",
       "      <td>103.089996</td>\n",
       "      <td>3678200.0</td>\n",
       "      <td>103.230003</td>\n",
       "    </tr>\n",
       "    <tr>\n",
       "      <th>97728</th>\n",
       "      <td>64.419998</td>\n",
       "      <td>64.730003</td>\n",
       "      <td>64.190002</td>\n",
       "      <td>20273100.0</td>\n",
       "      <td>64.620003</td>\n",
       "    </tr>\n",
       "    <tr>\n",
       "      <th>97729</th>\n",
       "      <td>581.070007</td>\n",
       "      <td>581.400024</td>\n",
       "      <td>571.070007</td>\n",
       "      <td>3416500.0</td>\n",
       "      <td>575.140015</td>\n",
       "    </tr>\n",
       "    <tr>\n",
       "      <th>97730</th>\n",
       "      <td>120.650002</td>\n",
       "      <td>120.650002</td>\n",
       "      <td>114.959999</td>\n",
       "      <td>13261700.0</td>\n",
       "      <td>115.400002</td>\n",
       "    </tr>\n",
       "    <tr>\n",
       "      <th>97731</th>\n",
       "      <td>64.870003</td>\n",
       "      <td>64.959999</td>\n",
       "      <td>64.309998</td>\n",
       "      <td>667000.0</td>\n",
       "      <td>64.720001</td>\n",
       "    </tr>\n",
       "  </tbody>\n",
       "</table>\n",
       "<p>97732 rows × 5 columns</p>\n",
       "</div>"
      ],
      "text/plain": [
       "             Open        High         Low      Volume       Close\n",
       "0       75.430000   75.910004   75.139999   3436700.0   75.650002\n",
       "1      124.930000  124.940002  124.169998   2366700.0  124.449997\n",
       "2       84.339996   84.370003   82.370003  11338700.0   82.660004\n",
       "3       56.770000   57.150002   56.529999    413300.0   57.009998\n",
       "4       47.419998   48.090000   46.759998   9531100.0   47.860001\n",
       "...           ...         ...         ...         ...         ...\n",
       "97727  103.650002  103.809998  103.089996   3678200.0  103.230003\n",
       "97728   64.419998   64.730003   64.190002  20273100.0   64.620003\n",
       "97729  581.070007  581.400024  571.070007   3416500.0  575.140015\n",
       "97730  120.650002  120.650002  114.959999  13261700.0  115.400002\n",
       "97731   64.870003   64.959999   64.309998    667000.0   64.720001\n",
       "\n",
       "[97732 rows x 5 columns]"
      ]
     },
     "execution_count": 61,
     "metadata": {},
     "output_type": "execute_result"
    }
   ],
   "source": [
    "trn_d"
   ]
  },
  {
   "cell_type": "code",
   "execution_count": 62,
   "id": "b926b442",
   "metadata": {
    "scrolled": true
   },
   "outputs": [
    {
     "data": {
      "text/html": [
       "<div>\n",
       "<style scoped>\n",
       "    .dataframe tbody tr th:only-of-type {\n",
       "        vertical-align: middle;\n",
       "    }\n",
       "\n",
       "    .dataframe tbody tr th {\n",
       "        vertical-align: top;\n",
       "    }\n",
       "\n",
       "    .dataframe thead th {\n",
       "        text-align: right;\n",
       "    }\n",
       "</style>\n",
       "<table border=\"1\" class=\"dataframe\">\n",
       "  <thead>\n",
       "    <tr style=\"text-align: right;\">\n",
       "      <th></th>\n",
       "      <th>Open</th>\n",
       "      <th>High</th>\n",
       "      <th>Low</th>\n",
       "      <th>Volume</th>\n",
       "      <th>Close</th>\n",
       "    </tr>\n",
       "  </thead>\n",
       "  <tbody>\n",
       "    <tr>\n",
       "      <th>count</th>\n",
       "      <td>97729.000000</td>\n",
       "      <td>97729.000000</td>\n",
       "      <td>97729.000000</td>\n",
       "      <td>9.772900e+04</td>\n",
       "      <td>97729.000000</td>\n",
       "    </tr>\n",
       "    <tr>\n",
       "      <th>mean</th>\n",
       "      <td>2427.661341</td>\n",
       "      <td>2439.557429</td>\n",
       "      <td>2413.965223</td>\n",
       "      <td>9.064781e+06</td>\n",
       "      <td>2427.381769</td>\n",
       "    </tr>\n",
       "    <tr>\n",
       "      <th>std</th>\n",
       "      <td>21797.841949</td>\n",
       "      <td>21900.340643</td>\n",
       "      <td>21678.006665</td>\n",
       "      <td>1.800910e+07</td>\n",
       "      <td>21794.748626</td>\n",
       "    </tr>\n",
       "    <tr>\n",
       "      <th>min</th>\n",
       "      <td>2.130000</td>\n",
       "      <td>2.280000</td>\n",
       "      <td>1.960000</td>\n",
       "      <td>0.000000e+00</td>\n",
       "      <td>2.020000</td>\n",
       "    </tr>\n",
       "    <tr>\n",
       "      <th>25%</th>\n",
       "      <td>40.450001</td>\n",
       "      <td>40.730000</td>\n",
       "      <td>40.180000</td>\n",
       "      <td>1.198000e+06</td>\n",
       "      <td>40.459999</td>\n",
       "    </tr>\n",
       "    <tr>\n",
       "      <th>50%</th>\n",
       "      <td>65.959999</td>\n",
       "      <td>66.489998</td>\n",
       "      <td>65.459999</td>\n",
       "      <td>3.544600e+06</td>\n",
       "      <td>66.010002</td>\n",
       "    </tr>\n",
       "    <tr>\n",
       "      <th>75%</th>\n",
       "      <td>97.669998</td>\n",
       "      <td>98.470001</td>\n",
       "      <td>96.930000</td>\n",
       "      <td>8.996400e+06</td>\n",
       "      <td>97.669998</td>\n",
       "    </tr>\n",
       "    <tr>\n",
       "      <th>max</th>\n",
       "      <td>272800.000000</td>\n",
       "      <td>272885.000000</td>\n",
       "      <td>271040.000000</td>\n",
       "      <td>6.166205e+08</td>\n",
       "      <td>271062.000000</td>\n",
       "    </tr>\n",
       "  </tbody>\n",
       "</table>\n",
       "</div>"
      ],
      "text/plain": [
       "                Open           High            Low        Volume  \\\n",
       "count   97729.000000   97729.000000   97729.000000  9.772900e+04   \n",
       "mean     2427.661341    2439.557429    2413.965223  9.064781e+06   \n",
       "std     21797.841949   21900.340643   21678.006665  1.800910e+07   \n",
       "min         2.130000       2.280000       1.960000  0.000000e+00   \n",
       "25%        40.450001      40.730000      40.180000  1.198000e+06   \n",
       "50%        65.959999      66.489998      65.459999  3.544600e+06   \n",
       "75%        97.669998      98.470001      96.930000  8.996400e+06   \n",
       "max    272800.000000  272885.000000  271040.000000  6.166205e+08   \n",
       "\n",
       "               Close  \n",
       "count   97729.000000  \n",
       "mean     2427.381769  \n",
       "std     21794.748626  \n",
       "min         2.020000  \n",
       "25%        40.459999  \n",
       "50%        66.010002  \n",
       "75%        97.669998  \n",
       "max    271062.000000  "
      ]
     },
     "execution_count": 62,
     "metadata": {},
     "output_type": "execute_result"
    }
   ],
   "source": [
    "trn_d.describe()"
   ]
  },
  {
   "cell_type": "code",
   "execution_count": 13,
   "id": "504e240f",
   "metadata": {
    "scrolled": false
   },
   "outputs": [
    {
     "data": {
      "text/plain": [
       "<seaborn.axisgrid.PairGrid at 0x141d2779220>"
      ]
     },
     "execution_count": 13,
     "metadata": {},
     "output_type": "execute_result"
    },
    {
     "data": {
      "image/png": "[encoded data removed]",
      "text/plain": [
       "<Figure size 900x900 with 30 Axes>"
      ]
     },
     "metadata": {
      "needs_background": "light"
     },
     "output_type": "display_data"
    }
   ],
   "source": [
    "sns.pairplot(trn_d)"
   ]
  },
  {
   "cell_type": "code",
   "execution_count": 63,
   "id": "b0288b44",
   "metadata": {},
   "outputs": [],
   "source": [
    "\n",
    "X=trn_d.iloc[:,:-1]\n",
    "Y=trn_d.iloc[:,-1:]"
   ]
  },
  {
   "cell_type": "code",
   "execution_count": 64,
   "id": "51834b16",
   "metadata": {},
   "outputs": [
    {
     "data": {
      "text/html": [
       "<div>\n",
       "<style scoped>\n",
       "    .dataframe tbody tr th:only-of-type {\n",
       "        vertical-align: middle;\n",
       "    }\n",
       "\n",
       "    .dataframe tbody tr th {\n",
       "        vertical-align: top;\n",
       "    }\n",
       "\n",
       "    .dataframe thead th {\n",
       "        text-align: right;\n",
       "    }\n",
       "</style>\n",
       "<table border=\"1\" class=\"dataframe\">\n",
       "  <thead>\n",
       "    <tr style=\"text-align: right;\">\n",
       "      <th></th>\n",
       "      <th>Open</th>\n",
       "      <th>High</th>\n",
       "      <th>Low</th>\n",
       "      <th>Volume</th>\n",
       "    </tr>\n",
       "  </thead>\n",
       "  <tbody>\n",
       "    <tr>\n",
       "      <th>0</th>\n",
       "      <td>75.430000</td>\n",
       "      <td>75.910004</td>\n",
       "      <td>75.139999</td>\n",
       "      <td>3436700.0</td>\n",
       "    </tr>\n",
       "    <tr>\n",
       "      <th>1</th>\n",
       "      <td>124.930000</td>\n",
       "      <td>124.940002</td>\n",
       "      <td>124.169998</td>\n",
       "      <td>2366700.0</td>\n",
       "    </tr>\n",
       "    <tr>\n",
       "      <th>2</th>\n",
       "      <td>84.339996</td>\n",
       "      <td>84.370003</td>\n",
       "      <td>82.370003</td>\n",
       "      <td>11338700.0</td>\n",
       "    </tr>\n",
       "    <tr>\n",
       "      <th>3</th>\n",
       "      <td>56.770000</td>\n",
       "      <td>57.150002</td>\n",
       "      <td>56.529999</td>\n",
       "      <td>413300.0</td>\n",
       "    </tr>\n",
       "    <tr>\n",
       "      <th>4</th>\n",
       "      <td>47.419998</td>\n",
       "      <td>48.090000</td>\n",
       "      <td>46.759998</td>\n",
       "      <td>9531100.0</td>\n",
       "    </tr>\n",
       "    <tr>\n",
       "      <th>...</th>\n",
       "      <td>...</td>\n",
       "      <td>...</td>\n",
       "      <td>...</td>\n",
       "      <td>...</td>\n",
       "    </tr>\n",
       "    <tr>\n",
       "      <th>97727</th>\n",
       "      <td>103.650002</td>\n",
       "      <td>103.809998</td>\n",
       "      <td>103.089996</td>\n",
       "      <td>3678200.0</td>\n",
       "    </tr>\n",
       "    <tr>\n",
       "      <th>97728</th>\n",
       "      <td>64.419998</td>\n",
       "      <td>64.730003</td>\n",
       "      <td>64.190002</td>\n",
       "      <td>20273100.0</td>\n",
       "    </tr>\n",
       "    <tr>\n",
       "      <th>97729</th>\n",
       "      <td>581.070007</td>\n",
       "      <td>581.400024</td>\n",
       "      <td>571.070007</td>\n",
       "      <td>3416500.0</td>\n",
       "    </tr>\n",
       "    <tr>\n",
       "      <th>97730</th>\n",
       "      <td>120.650002</td>\n",
       "      <td>120.650002</td>\n",
       "      <td>114.959999</td>\n",
       "      <td>13261700.0</td>\n",
       "    </tr>\n",
       "    <tr>\n",
       "      <th>97731</th>\n",
       "      <td>64.870003</td>\n",
       "      <td>64.959999</td>\n",
       "      <td>64.309998</td>\n",
       "      <td>667000.0</td>\n",
       "    </tr>\n",
       "  </tbody>\n",
       "</table>\n",
       "<p>97732 rows × 4 columns</p>\n",
       "</div>"
      ],
      "text/plain": [
       "             Open        High         Low      Volume\n",
       "0       75.430000   75.910004   75.139999   3436700.0\n",
       "1      124.930000  124.940002  124.169998   2366700.0\n",
       "2       84.339996   84.370003   82.370003  11338700.0\n",
       "3       56.770000   57.150002   56.529999    413300.0\n",
       "4       47.419998   48.090000   46.759998   9531100.0\n",
       "...           ...         ...         ...         ...\n",
       "97727  103.650002  103.809998  103.089996   3678200.0\n",
       "97728   64.419998   64.730003   64.190002  20273100.0\n",
       "97729  581.070007  581.400024  571.070007   3416500.0\n",
       "97730  120.650002  120.650002  114.959999  13261700.0\n",
       "97731   64.870003   64.959999   64.309998    667000.0\n",
       "\n",
       "[97732 rows x 4 columns]"
      ]
     },
     "execution_count": 64,
     "metadata": {},
     "output_type": "execute_result"
    }
   ],
   "source": [
    "X"
   ]
  },
  {
   "cell_type": "code",
   "execution_count": 72,
   "id": "d358335b",
   "metadata": {
    "scrolled": false
   },
   "outputs": [
    {
     "data": {
      "text/html": [
       "<div>\n",
       "<style scoped>\n",
       "    .dataframe tbody tr th:only-of-type {\n",
       "        vertical-align: middle;\n",
       "    }\n",
       "\n",
       "    .dataframe tbody tr th {\n",
       "        vertical-align: top;\n",
       "    }\n",
       "\n",
       "    .dataframe thead th {\n",
       "        text-align: right;\n",
       "    }\n",
       "</style>\n",
       "<table border=\"1\" class=\"dataframe\">\n",
       "  <thead>\n",
       "    <tr style=\"text-align: right;\">\n",
       "      <th></th>\n",
       "      <th>Close</th>\n",
       "    </tr>\n",
       "  </thead>\n",
       "  <tbody>\n",
       "    <tr>\n",
       "      <th>0</th>\n",
       "      <td>75.650002</td>\n",
       "    </tr>\n",
       "    <tr>\n",
       "      <th>1</th>\n",
       "      <td>124.449997</td>\n",
       "    </tr>\n",
       "    <tr>\n",
       "      <th>2</th>\n",
       "      <td>82.660004</td>\n",
       "    </tr>\n",
       "    <tr>\n",
       "      <th>3</th>\n",
       "      <td>57.009998</td>\n",
       "    </tr>\n",
       "    <tr>\n",
       "      <th>4</th>\n",
       "      <td>47.860001</td>\n",
       "    </tr>\n",
       "    <tr>\n",
       "      <th>...</th>\n",
       "      <td>...</td>\n",
       "    </tr>\n",
       "    <tr>\n",
       "      <th>97727</th>\n",
       "      <td>103.230003</td>\n",
       "    </tr>\n",
       "    <tr>\n",
       "      <th>97728</th>\n",
       "      <td>64.620003</td>\n",
       "    </tr>\n",
       "    <tr>\n",
       "      <th>97729</th>\n",
       "      <td>575.140015</td>\n",
       "    </tr>\n",
       "    <tr>\n",
       "      <th>97730</th>\n",
       "      <td>115.400002</td>\n",
       "    </tr>\n",
       "    <tr>\n",
       "      <th>97731</th>\n",
       "      <td>64.720001</td>\n",
       "    </tr>\n",
       "  </tbody>\n",
       "</table>\n",
       "<p>97732 rows × 1 columns</p>\n",
       "</div>"
      ],
      "text/plain": [
       "            Close\n",
       "0       75.650002\n",
       "1      124.449997\n",
       "2       82.660004\n",
       "3       57.009998\n",
       "4       47.860001\n",
       "...           ...\n",
       "97727  103.230003\n",
       "97728   64.620003\n",
       "97729  575.140015\n",
       "97730  115.400002\n",
       "97731   64.720001\n",
       "\n",
       "[97732 rows x 1 columns]"
      ]
     },
     "execution_count": 72,
     "metadata": {},
     "output_type": "execute_result"
    }
   ],
   "source": [
    "Y"
   ]
  },
  {
   "cell_type": "markdown",
   "id": "e34a1f2a",
   "metadata": {},
   "source": [
    "## Removing NULL values"
   ]
  },
  {
   "cell_type": "code",
   "execution_count": 73,
   "id": "6f1c4cdc",
   "metadata": {},
   "outputs": [],
   "source": [
    "X = X.replace((np.inf, -np.inf, np.nan), 0).reset_index(drop=True)"
   ]
  },
  {
   "cell_type": "code",
   "execution_count": 74,
   "id": "19fd5f7e",
   "metadata": {},
   "outputs": [],
   "source": [
    "Y = Y.replace((np.inf, -np.inf, np.nan), 0).reset_index(drop=True)"
   ]
  },
  {
   "cell_type": "code",
   "execution_count": 75,
   "id": "e8e9b16c",
   "metadata": {},
   "outputs": [
    {
     "data": {
      "text/plain": [
       "(array([], dtype=int64), array([], dtype=int64))"
      ]
     },
     "execution_count": 75,
     "metadata": {},
     "output_type": "execute_result"
    }
   ],
   "source": [
    "np.where(np.isnan(Y))"
   ]
  },
  {
   "cell_type": "code",
   "execution_count": 76,
   "id": "954d88bb",
   "metadata": {},
   "outputs": [
    {
     "data": {
      "text/html": [
       "<div>\n",
       "<style scoped>\n",
       "    .dataframe tbody tr th:only-of-type {\n",
       "        vertical-align: middle;\n",
       "    }\n",
       "\n",
       "    .dataframe tbody tr th {\n",
       "        vertical-align: top;\n",
       "    }\n",
       "\n",
       "    .dataframe thead th {\n",
       "        text-align: right;\n",
       "    }\n",
       "</style>\n",
       "<table border=\"1\" class=\"dataframe\">\n",
       "  <thead>\n",
       "    <tr style=\"text-align: right;\">\n",
       "      <th></th>\n",
       "      <th>Open</th>\n",
       "      <th>High</th>\n",
       "      <th>Low</th>\n",
       "      <th>Volume</th>\n",
       "    </tr>\n",
       "  </thead>\n",
       "  <tbody>\n",
       "    <tr>\n",
       "      <th>0</th>\n",
       "      <td>75.430000</td>\n",
       "      <td>75.910004</td>\n",
       "      <td>75.139999</td>\n",
       "      <td>3436700.0</td>\n",
       "    </tr>\n",
       "    <tr>\n",
       "      <th>1</th>\n",
       "      <td>124.930000</td>\n",
       "      <td>124.940002</td>\n",
       "      <td>124.169998</td>\n",
       "      <td>2366700.0</td>\n",
       "    </tr>\n",
       "    <tr>\n",
       "      <th>2</th>\n",
       "      <td>84.339996</td>\n",
       "      <td>84.370003</td>\n",
       "      <td>82.370003</td>\n",
       "      <td>11338700.0</td>\n",
       "    </tr>\n",
       "    <tr>\n",
       "      <th>3</th>\n",
       "      <td>56.770000</td>\n",
       "      <td>57.150002</td>\n",
       "      <td>56.529999</td>\n",
       "      <td>413300.0</td>\n",
       "    </tr>\n",
       "    <tr>\n",
       "      <th>4</th>\n",
       "      <td>47.419998</td>\n",
       "      <td>48.090000</td>\n",
       "      <td>46.759998</td>\n",
       "      <td>9531100.0</td>\n",
       "    </tr>\n",
       "    <tr>\n",
       "      <th>...</th>\n",
       "      <td>...</td>\n",
       "      <td>...</td>\n",
       "      <td>...</td>\n",
       "      <td>...</td>\n",
       "    </tr>\n",
       "    <tr>\n",
       "      <th>97727</th>\n",
       "      <td>103.650002</td>\n",
       "      <td>103.809998</td>\n",
       "      <td>103.089996</td>\n",
       "      <td>3678200.0</td>\n",
       "    </tr>\n",
       "    <tr>\n",
       "      <th>97728</th>\n",
       "      <td>64.419998</td>\n",
       "      <td>64.730003</td>\n",
       "      <td>64.190002</td>\n",
       "      <td>20273100.0</td>\n",
       "    </tr>\n",
       "    <tr>\n",
       "      <th>97729</th>\n",
       "      <td>581.070007</td>\n",
       "      <td>581.400024</td>\n",
       "      <td>571.070007</td>\n",
       "      <td>3416500.0</td>\n",
       "    </tr>\n",
       "    <tr>\n",
       "      <th>97730</th>\n",
       "      <td>120.650002</td>\n",
       "      <td>120.650002</td>\n",
       "      <td>114.959999</td>\n",
       "      <td>13261700.0</td>\n",
       "    </tr>\n",
       "    <tr>\n",
       "      <th>97731</th>\n",
       "      <td>64.870003</td>\n",
       "      <td>64.959999</td>\n",
       "      <td>64.309998</td>\n",
       "      <td>667000.0</td>\n",
       "    </tr>\n",
       "  </tbody>\n",
       "</table>\n",
       "<p>97732 rows × 4 columns</p>\n",
       "</div>"
      ],
      "text/plain": [
       "             Open        High         Low      Volume\n",
       "0       75.430000   75.910004   75.139999   3436700.0\n",
       "1      124.930000  124.940002  124.169998   2366700.0\n",
       "2       84.339996   84.370003   82.370003  11338700.0\n",
       "3       56.770000   57.150002   56.529999    413300.0\n",
       "4       47.419998   48.090000   46.759998   9531100.0\n",
       "...           ...         ...         ...         ...\n",
       "97727  103.650002  103.809998  103.089996   3678200.0\n",
       "97728   64.419998   64.730003   64.190002  20273100.0\n",
       "97729  581.070007  581.400024  571.070007   3416500.0\n",
       "97730  120.650002  120.650002  114.959999  13261700.0\n",
       "97731   64.870003   64.959999   64.309998    667000.0\n",
       "\n",
       "[97732 rows x 4 columns]"
      ]
     },
     "execution_count": 76,
     "metadata": {},
     "output_type": "execute_result"
    }
   ],
   "source": [
    "X"
   ]
  },
  {
   "cell_type": "code",
   "execution_count": 77,
   "id": "b5f5f6d4",
   "metadata": {},
   "outputs": [],
   "source": [
    "## Using label encoding on Y to cnvert float to int"
   ]
  },
  {
   "cell_type": "code",
   "execution_count": 78,
   "id": "fc500ead",
   "metadata": {},
   "outputs": [
    {
     "data": {
      "text/html": [
       "<div>\n",
       "<style scoped>\n",
       "    .dataframe tbody tr th:only-of-type {\n",
       "        vertical-align: middle;\n",
       "    }\n",
       "\n",
       "    .dataframe tbody tr th {\n",
       "        vertical-align: top;\n",
       "    }\n",
       "\n",
       "    .dataframe thead th {\n",
       "        text-align: right;\n",
       "    }\n",
       "</style>\n",
       "<table border=\"1\" class=\"dataframe\">\n",
       "  <thead>\n",
       "    <tr style=\"text-align: right;\">\n",
       "      <th></th>\n",
       "      <th>Close</th>\n",
       "    </tr>\n",
       "  </thead>\n",
       "  <tbody>\n",
       "    <tr>\n",
       "      <th>0</th>\n",
       "      <td>75.650002</td>\n",
       "    </tr>\n",
       "    <tr>\n",
       "      <th>1</th>\n",
       "      <td>124.449997</td>\n",
       "    </tr>\n",
       "    <tr>\n",
       "      <th>2</th>\n",
       "      <td>82.660004</td>\n",
       "    </tr>\n",
       "    <tr>\n",
       "      <th>3</th>\n",
       "      <td>57.009998</td>\n",
       "    </tr>\n",
       "    <tr>\n",
       "      <th>4</th>\n",
       "      <td>47.860001</td>\n",
       "    </tr>\n",
       "    <tr>\n",
       "      <th>...</th>\n",
       "      <td>...</td>\n",
       "    </tr>\n",
       "    <tr>\n",
       "      <th>97727</th>\n",
       "      <td>103.230003</td>\n",
       "    </tr>\n",
       "    <tr>\n",
       "      <th>97728</th>\n",
       "      <td>64.620003</td>\n",
       "    </tr>\n",
       "    <tr>\n",
       "      <th>97729</th>\n",
       "      <td>575.140015</td>\n",
       "    </tr>\n",
       "    <tr>\n",
       "      <th>97730</th>\n",
       "      <td>115.400002</td>\n",
       "    </tr>\n",
       "    <tr>\n",
       "      <th>97731</th>\n",
       "      <td>64.720001</td>\n",
       "    </tr>\n",
       "  </tbody>\n",
       "</table>\n",
       "<p>97732 rows × 1 columns</p>\n",
       "</div>"
      ],
      "text/plain": [
       "            Close\n",
       "0       75.650002\n",
       "1      124.449997\n",
       "2       82.660004\n",
       "3       57.009998\n",
       "4       47.860001\n",
       "...           ...\n",
       "97727  103.230003\n",
       "97728   64.620003\n",
       "97729  575.140015\n",
       "97730  115.400002\n",
       "97731   64.720001\n",
       "\n",
       "[97732 rows x 1 columns]"
      ]
     },
     "execution_count": 78,
     "metadata": {},
     "output_type": "execute_result"
    }
   ],
   "source": [
    "Y"
   ]
  },
  {
   "cell_type": "code",
   "execution_count": null,
   "id": "d79a421c",
   "metadata": {},
   "outputs": [],
   "source": []
  },
  {
   "cell_type": "code",
   "execution_count": null,
   "id": "1d11003a",
   "metadata": {},
   "outputs": [],
   "source": [
    "\n",
    "\n",
    "## Feature Selection"
   ]
  },
  {
   "cell_type": "markdown",
   "id": "1c221fb8",
   "metadata": {},
   "source": [
    "### Mutual Information gain "
   ]
  },
  {
   "cell_type": "code",
   "execution_count": 24,
   "id": "a32630b3",
   "metadata": {},
   "outputs": [],
   "source": [
    "from sklearn.preprocessing import LabelEncoder\n",
    "le = LabelEncoder()\n",
    "Y_le = le.fit_transform(Y)"
   ]
  },
  {
   "cell_type": "code",
   "execution_count": 25,
   "id": "85fddc7b",
   "metadata": {},
   "outputs": [
    {
     "name": "stdout",
     "output_type": "stream",
     "text": [
      "[4.21386227 4.76647788 4.7173994  0.32451146]\n"
     ]
    }
   ],
   "source": [
    "from sklearn.feature_selection import mutual_info_classif as MIC\n",
    "mi_score = MIC(X,Y_le)\n",
    "print(mi_score)"
   ]
  },
  {
   "cell_type": "markdown",
   "id": "886fc143",
   "metadata": {},
   "source": [
    "## Feature Selection using Mutal Info regression"
   ]
  },
  {
   "cell_type": "code",
   "execution_count": 132,
   "id": "5f4e9970",
   "metadata": {},
   "outputs": [
    {
     "name": "stdout",
     "output_type": "stream",
     "text": [
      "Feature 0: 4.102847\n",
      "Feature 1: 4.473270\n",
      "Feature 2: 4.443530\n",
      "Feature 3: 0.396575\n"
     ]
    },
    {
     "data": {
      "image/png": "[encoded data removed]",
      "text/plain": [
       "<Figure size 432x288 with 1 Axes>"
      ]
     },
     "metadata": {
      "needs_background": "light"
     },
     "output_type": "display_data"
    }
   ],
   "source": [
    "\n",
    "from sklearn.datasets import make_regression\n",
    "from sklearn.model_selection import train_test_split\n",
    "from sklearn.feature_selection import SelectKBest\n",
    "from sklearn.feature_selection import mutual_info_regression\n",
    "from matplotlib import pyplot\n",
    " \n",
    "# feature selection\n",
    "def select_features(X_train, y_train, X_test):\n",
    "\t# configure to select all features\n",
    "\tfs = SelectKBest(score_func=mutual_info_regression, k='all')\n",
    "\t# learn relationship from training data\n",
    "\tfs.fit(X_train, y_train)\n",
    "\t# transform train input data\n",
    "\tX_train_fs = fs.transform(X_train)\n",
    "\t# transform test input data\n",
    "\tX_test_fs = fs.transform(X_test)\n",
    "\treturn X_train_fs, X_test_fs, fs\n",
    " \n",
    "# load the dataset\n",
    "\n",
    "# split into train and test sets\n",
    "X_train, X_test, y_train, y_test = train_test_split(X, Y_le, test_size=0.33, random_state=1)\n",
    "# feature selection\n",
    "X_train_fs, X_test_fs, fs = select_features(X_train, y_train, X_test)\n",
    "# what are scores for the features\n",
    "for i in range(len(fs.scores_)):\n",
    "\tprint('Feature %d: %f' % (i, fs.scores_[i]))\n",
    "# plot the scores\n",
    "pyplot.bar([i for i in range(len(fs.scores_))], fs.scores_)\n",
    "pyplot.show()"
   ]
  },
  {
   "cell_type": "code",
   "execution_count": null,
   "id": "a4470e67",
   "metadata": {},
   "outputs": [],
   "source": []
  },
  {
   "cell_type": "markdown",
   "id": "266d8793",
   "metadata": {},
   "source": [
    "### Feature selection via grid search"
   ]
  },
  {
   "cell_type": "code",
   "execution_count": 158,
   "id": "57e5f534",
   "metadata": {},
   "outputs": [
    {
     "name": "stderr",
     "output_type": "stream",
     "text": [
      "C:\\Users\\kunal\\anaconda3\\lib\\site-packages\\sklearn\\model_selection\\_search.py:918: UserWarning: One or more of the test scores are non-finite: [            nan -10374.20554438  -7808.47633796  -5164.14795881\n",
      "  -5164.14828945]\n",
      "  warnings.warn(\n",
      "C:\\Users\\kunal\\anaconda3\\lib\\site-packages\\sklearn\\utils\\validation.py:63: DataConversionWarning: A column-vector y was passed when a 1d array was expected. Please change the shape of y to (n_samples, ), for example using ravel().\n",
      "  return f(*args, **kwargs)\n"
     ]
    },
    {
     "name": "stdout",
     "output_type": "stream",
     "text": [
      "Best MAE: -5164.148\n",
      "Best Config: {'sel__k': 3}\n",
      ">nan with: {'sel__k': 0}\n",
      ">-10374.206 with: {'sel__k': 1}\n",
      ">-7808.476 with: {'sel__k': 2}\n",
      ">-5164.148 with: {'sel__k': 3}\n",
      ">-5164.148 with: {'sel__k': 4}\n"
     ]
    }
   ],
   "source": [
    "# define the evaluation method\n",
    "cv = RepeatedKFold(n_splits=10, n_repeats=3, random_state=1)\n",
    "# define the pipeline to evaluate\n",
    "model = LinearRegression()\n",
    "fs = SelectKBest(score_func=mutual_info_regression)\n",
    "pipeline = Pipeline(steps=[('sel',fs), ('lr', model)])\n",
    "# define the grid\n",
    "grid = dict()\n",
    "grid['sel__k'] = [i for i in range(0,5)]\n",
    "# define the grid search\n",
    "search = GridSearchCV(pipeline, grid, scoring='neg_mean_squared_error', n_jobs=-1, cv=cv)\n",
    "# perform the search\n",
    "results = search.fit(X, Y)\n",
    "# summarize best\n",
    "print('Best MAE: %.3f' % results.best_score_)\n",
    "print('Best Config: %s' % results.best_params_)\n",
    "# summarize all\n",
    "means = results.cv_results_['mean_test_score']\n",
    "params = results.cv_results_['params']\n",
    "for mean, param in zip(means, params):\n",
    "    print(\">%.3f with: %r\" % (mean, param))"
   ]
  },
  {
   "cell_type": "markdown",
   "id": "c634d2f8",
   "metadata": {},
   "source": [
    "### Forward feature selection"
   ]
  },
  {
   "cell_type": "code",
   "execution_count": 183,
   "id": "17054aa3",
   "metadata": {},
   "outputs": [
    {
     "name": "stdout",
     "output_type": "stream",
     "text": [
      "Requirement already satisfied: mlxtend in c:\\users\\kunal\\anaconda3\\lib\\site-packages (0.19.0)\n",
      "Requirement already satisfied: matplotlib>=3.0.0 in c:\\users\\kunal\\anaconda3\\lib\\site-packages (from mlxtend) (3.3.4)\n",
      "Requirement already satisfied: scikit-learn>=0.20.3 in c:\\users\\kunal\\anaconda3\\lib\\site-packages (from mlxtend) (0.24.1)\n",
      "Requirement already satisfied: pandas>=0.24.2 in c:\\users\\kunal\\anaconda3\\lib\\site-packages (from mlxtend) (1.2.4)\n",
      "Requirement already satisfied: setuptools in c:\\users\\kunal\\anaconda3\\lib\\site-packages (from mlxtend) (52.0.0.post20210125)\n",
      "Requirement already satisfied: joblib>=0.13.2 in c:\\users\\kunal\\anaconda3\\lib\\site-packages (from mlxtend) (1.0.1)\n",
      "Requirement already satisfied: scipy>=1.2.1 in c:\\users\\kunal\\anaconda3\\lib\\site-packages (from mlxtend) (1.6.2)\n",
      "Requirement already satisfied: numpy>=1.16.2 in c:\\users\\kunal\\anaconda3\\lib\\site-packages (from mlxtend) (1.20.1)\n",
      "Requirement already satisfied: cycler>=0.10 in c:\\users\\kunal\\anaconda3\\lib\\site-packages (from matplotlib>=3.0.0->mlxtend) (0.10.0)\n",
      "Requirement already satisfied: pillow>=6.2.0 in c:\\users\\kunal\\anaconda3\\lib\\site-packages (from matplotlib>=3.0.0->mlxtend) (8.2.0)\n",
      "Requirement already satisfied: python-dateutil>=2.1 in c:\\users\\kunal\\anaconda3\\lib\\site-packages (from matplotlib>=3.0.0->mlxtend) (2.8.1)\n",
      "Requirement already satisfied: kiwisolver>=1.0.1 in c:\\users\\kunal\\anaconda3\\lib\\site-packages (from matplotlib>=3.0.0->mlxtend) (1.3.1)\n",
      "Requirement already satisfied: pyparsing!=2.0.4,!=2.1.2,!=2.1.6,>=2.0.3 in c:\\users\\kunal\\anaconda3\\lib\\site-packages (from matplotlib>=3.0.0->mlxtend) (2.4.7)\n",
      "Requirement already satisfied: six in c:\\users\\kunal\\anaconda3\\lib\\site-packages (from cycler>=0.10->matplotlib>=3.0.0->mlxtend) (1.15.0)\n",
      "Requirement already satisfied: pytz>=2017.3 in c:\\users\\kunal\\anaconda3\\lib\\site-packages (from pandas>=0.24.2->mlxtend) (2021.1)\n",
      "Requirement already satisfied: threadpoolctl>=2.0.0 in c:\\users\\kunal\\anaconda3\\lib\\site-packages (from scikit-learn>=0.20.3->mlxtend) (2.1.0)\n"
     ]
    },
    {
     "name": "stderr",
     "output_type": "stream",
     "text": [
      "[Parallel(n_jobs=1)]: Using backend SequentialBackend with 1 concurrent workers.\n",
      "[Parallel(n_jobs=1)]: Done   1 out of   1 | elapsed:    0.0s remaining:    0.0s\n",
      "[Parallel(n_jobs=1)]: Done   4 out of   4 | elapsed:    0.1s finished\n",
      "\n",
      "[2022-04-14 00:08:09] Features: 1/4 -- score: -10372.926439577426[Parallel(n_jobs=1)]: Using backend SequentialBackend with 1 concurrent workers.\n",
      "[Parallel(n_jobs=1)]: Done   1 out of   1 | elapsed:    0.0s remaining:    0.0s\n",
      "[Parallel(n_jobs=1)]: Done   3 out of   3 | elapsed:    0.1s finished\n",
      "\n",
      "[2022-04-14 00:08:09] Features: 2/4 -- score: -7812.745682232943[Parallel(n_jobs=1)]: Using backend SequentialBackend with 1 concurrent workers.\n"
     ]
    },
    {
     "name": "stdout",
     "output_type": "stream",
     "text": [
      "['Open', 'High', 'Low', 'Volume']\n"
     ]
    },
    {
     "name": "stderr",
     "output_type": "stream",
     "text": [
      "[Parallel(n_jobs=1)]: Done   1 out of   1 | elapsed:    0.0s remaining:    0.0s\n",
      "[Parallel(n_jobs=1)]: Done   2 out of   2 | elapsed:    0.1s finished\n",
      "\n",
      "[2022-04-14 00:08:09] Features: 3/4 -- score: -5176.943487383968[Parallel(n_jobs=1)]: Using backend SequentialBackend with 1 concurrent workers.\n",
      "[Parallel(n_jobs=1)]: Done   1 out of   1 | elapsed:    0.0s remaining:    0.0s\n",
      "[Parallel(n_jobs=1)]: Done   1 out of   1 | elapsed:    0.0s finished\n",
      "\n",
      "[2022-04-14 00:08:09] Features: 4/4 -- score: -5176.94347218419"
     ]
    }
   ],
   "source": [
    "\n",
    "!pip install mlxtend\n",
    "import joblib\n",
    "import sys\n",
    "sys.modules['sklearn.externals.joblib'] = joblib\n",
    "from mlxtend.feature_selection import SequentialFeatureSelector as SFS\n",
    "\n",
    "X_1=X\n",
    "Y_1=Y\n",
    "lreg = LinearRegression()\n",
    "sfs1 = SFS(lreg, k_features=4, forward=True, verbose=2, scoring='neg_mean_squared_error')\n",
    "sfs1 = sfs1.fit(X_1,Y_1)\n",
    "feat_names = list(sfs1.k_feature_names_)\n",
    "print(feat_names)"
   ]
  },
  {
   "cell_type": "code",
   "execution_count": null,
   "id": "581a04e6",
   "metadata": {},
   "outputs": [],
   "source": []
  },
  {
   "cell_type": "markdown",
   "id": "8ccb2675",
   "metadata": {},
   "source": [
    " From the above feature selection techniques we found that the important features of \n",
    "   the data to train the model are ['Open', 'High', 'Low', 'Volume'].\n",
    " Hence we move forward to train the model"
   ]
  },
  {
   "cell_type": "code",
   "execution_count": null,
   "id": "31022b29",
   "metadata": {},
   "outputs": [],
   "source": []
  },
  {
   "cell_type": "code",
   "execution_count": null,
   "id": "7fcfeb73",
   "metadata": {},
   "outputs": [],
   "source": []
  },
  {
   "cell_type": "markdown",
   "id": "93d45064",
   "metadata": {},
   "source": [
    "# Model Trainnig "
   ]
  },
  {
   "cell_type": "markdown",
   "id": "499f266c",
   "metadata": {},
   "source": [
    "##   Splitting of Data"
   ]
  },
  {
   "cell_type": "code",
   "execution_count": 79,
   "id": "3121cb32",
   "metadata": {},
   "outputs": [],
   "source": [
    "from sklearn.model_selection import train_test_split\n",
    "X_train, X_test, y_train, y_test = train_test_split(X, Y, test_size = 0.20)"
   ]
  },
  {
   "cell_type": "code",
   "execution_count": 80,
   "id": "5269f661",
   "metadata": {},
   "outputs": [
    {
     "name": "stdout",
     "output_type": "stream",
     "text": [
      "Size of training data (78185, 4)\n",
      "Size of training data class label (78185, 1)\n",
      "Size of testing data (19547, 4)\n",
      "Size of testing data class label (19547, 1)\n"
     ]
    }
   ],
   "source": [
    "print(\"Size of training data\",X_train.shape)\n",
    "print(\"Size of training data class label\",y_train.shape)\n",
    "print(\"Size of testing data\",X_test.shape)\n",
    "print(\"Size of testing data class label\",y_test.shape)"
   ]
  },
  {
   "cell_type": "markdown",
   "id": "60308524",
   "metadata": {},
   "source": [
    "In our model we are using  models to predict the stock closing values\n",
    "\n",
    "**1) Linear Regression**\n",
    "\n",
    "**2) SVM Regression**\n",
    "\n",
    "**3) Decision Tree Regression**\n",
    "\n",
    "**4) Random Forest  Regression**\n",
    "\n",
    "**5) KNN Regression**\n"
   ]
  },
  {
   "cell_type": "code",
   "execution_count": 83,
   "id": "1415a342",
   "metadata": {},
   "outputs": [
    {
     "data": {
      "text/html": [
       "<div>\n",
       "<style scoped>\n",
       "    .dataframe tbody tr th:only-of-type {\n",
       "        vertical-align: middle;\n",
       "    }\n",
       "\n",
       "    .dataframe tbody tr th {\n",
       "        vertical-align: top;\n",
       "    }\n",
       "\n",
       "    .dataframe thead th {\n",
       "        text-align: right;\n",
       "    }\n",
       "</style>\n",
       "<table border=\"1\" class=\"dataframe\">\n",
       "  <thead>\n",
       "    <tr style=\"text-align: right;\">\n",
       "      <th></th>\n",
       "      <th>Open</th>\n",
       "      <th>High</th>\n",
       "      <th>Low</th>\n",
       "      <th>Volume</th>\n",
       "    </tr>\n",
       "  </thead>\n",
       "  <tbody>\n",
       "    <tr>\n",
       "      <th>19192</th>\n",
       "      <td>40.580002</td>\n",
       "      <td>40.660000</td>\n",
       "      <td>39.279999</td>\n",
       "      <td>86679100.0</td>\n",
       "    </tr>\n",
       "    <tr>\n",
       "      <th>37678</th>\n",
       "      <td>42.400002</td>\n",
       "      <td>43.070000</td>\n",
       "      <td>42.360001</td>\n",
       "      <td>3757500.0</td>\n",
       "    </tr>\n",
       "    <tr>\n",
       "      <th>28824</th>\n",
       "      <td>25.219999</td>\n",
       "      <td>25.620001</td>\n",
       "      <td>25.010000</td>\n",
       "      <td>32705400.0</td>\n",
       "    </tr>\n",
       "    <tr>\n",
       "      <th>90218</th>\n",
       "      <td>17.190001</td>\n",
       "      <td>17.190001</td>\n",
       "      <td>16.730000</td>\n",
       "      <td>334100.0</td>\n",
       "    </tr>\n",
       "    <tr>\n",
       "      <th>69413</th>\n",
       "      <td>51.939999</td>\n",
       "      <td>52.540001</td>\n",
       "      <td>51.840000</td>\n",
       "      <td>26051300.0</td>\n",
       "    </tr>\n",
       "    <tr>\n",
       "      <th>...</th>\n",
       "      <td>...</td>\n",
       "      <td>...</td>\n",
       "      <td>...</td>\n",
       "      <td>...</td>\n",
       "    </tr>\n",
       "    <tr>\n",
       "      <th>85837</th>\n",
       "      <td>209.500000</td>\n",
       "      <td>210.979996</td>\n",
       "      <td>207.639999</td>\n",
       "      <td>1574600.0</td>\n",
       "    </tr>\n",
       "    <tr>\n",
       "      <th>16898</th>\n",
       "      <td>69.489998</td>\n",
       "      <td>69.779999</td>\n",
       "      <td>68.989998</td>\n",
       "      <td>5147300.0</td>\n",
       "    </tr>\n",
       "    <tr>\n",
       "      <th>57696</th>\n",
       "      <td>530.732849</td>\n",
       "      <td>534.013855</td>\n",
       "      <td>528.559814</td>\n",
       "      <td>2278500.0</td>\n",
       "    </tr>\n",
       "    <tr>\n",
       "      <th>87285</th>\n",
       "      <td>21.530001</td>\n",
       "      <td>22.139999</td>\n",
       "      <td>21.400000</td>\n",
       "      <td>74900.0</td>\n",
       "    </tr>\n",
       "    <tr>\n",
       "      <th>70844</th>\n",
       "      <td>116.910004</td>\n",
       "      <td>117.519997</td>\n",
       "      <td>116.629997</td>\n",
       "      <td>208600.0</td>\n",
       "    </tr>\n",
       "  </tbody>\n",
       "</table>\n",
       "<p>78185 rows × 4 columns</p>\n",
       "</div>"
      ],
      "text/plain": [
       "             Open        High         Low      Volume\n",
       "19192   40.580002   40.660000   39.279999  86679100.0\n",
       "37678   42.400002   43.070000   42.360001   3757500.0\n",
       "28824   25.219999   25.620001   25.010000  32705400.0\n",
       "90218   17.190001   17.190001   16.730000    334100.0\n",
       "69413   51.939999   52.540001   51.840000  26051300.0\n",
       "...           ...         ...         ...         ...\n",
       "85837  209.500000  210.979996  207.639999   1574600.0\n",
       "16898   69.489998   69.779999   68.989998   5147300.0\n",
       "57696  530.732849  534.013855  528.559814   2278500.0\n",
       "87285   21.530001   22.139999   21.400000     74900.0\n",
       "70844  116.910004  117.519997  116.629997    208600.0\n",
       "\n",
       "[78185 rows x 4 columns]"
      ]
     },
     "execution_count": 83,
     "metadata": {},
     "output_type": "execute_result"
    }
   ],
   "source": [
    "X_train"
   ]
  },
  {
   "cell_type": "code",
   "execution_count": 84,
   "id": "c57981f3",
   "metadata": {},
   "outputs": [
    {
     "data": {
      "text/html": [
       "<div>\n",
       "<style scoped>\n",
       "    .dataframe tbody tr th:only-of-type {\n",
       "        vertical-align: middle;\n",
       "    }\n",
       "\n",
       "    .dataframe tbody tr th {\n",
       "        vertical-align: top;\n",
       "    }\n",
       "\n",
       "    .dataframe thead th {\n",
       "        text-align: right;\n",
       "    }\n",
       "</style>\n",
       "<table border=\"1\" class=\"dataframe\">\n",
       "  <thead>\n",
       "    <tr style=\"text-align: right;\">\n",
       "      <th></th>\n",
       "      <th>Open</th>\n",
       "      <th>High</th>\n",
       "      <th>Low</th>\n",
       "      <th>Volume</th>\n",
       "    </tr>\n",
       "  </thead>\n",
       "  <tbody>\n",
       "    <tr>\n",
       "      <th>0</th>\n",
       "      <td>26.299999</td>\n",
       "      <td>26.520000</td>\n",
       "      <td>25.959999</td>\n",
       "      <td>32642100</td>\n",
       "    </tr>\n",
       "    <tr>\n",
       "      <th>1</th>\n",
       "      <td>95.550003</td>\n",
       "      <td>95.739998</td>\n",
       "      <td>94.019997</td>\n",
       "      <td>1826300</td>\n",
       "    </tr>\n",
       "    <tr>\n",
       "      <th>2</th>\n",
       "      <td>54.770000</td>\n",
       "      <td>55.360001</td>\n",
       "      <td>54.590000</td>\n",
       "      <td>5656800</td>\n",
       "    </tr>\n",
       "    <tr>\n",
       "      <th>3</th>\n",
       "      <td>125.589996</td>\n",
       "      <td>125.820000</td>\n",
       "      <td>123.660004</td>\n",
       "      <td>4151600</td>\n",
       "    </tr>\n",
       "    <tr>\n",
       "      <th>4</th>\n",
       "      <td>20.709999</td>\n",
       "      <td>20.809999</td>\n",
       "      <td>20.670000</td>\n",
       "      <td>10489800</td>\n",
       "    </tr>\n",
       "    <tr>\n",
       "      <th>...</th>\n",
       "      <td>...</td>\n",
       "      <td>...</td>\n",
       "      <td>...</td>\n",
       "      <td>...</td>\n",
       "    </tr>\n",
       "    <tr>\n",
       "      <th>10855</th>\n",
       "      <td>51.660000</td>\n",
       "      <td>52.919998</td>\n",
       "      <td>49.919998</td>\n",
       "      <td>87000</td>\n",
       "    </tr>\n",
       "    <tr>\n",
       "      <th>10856</th>\n",
       "      <td>39.549999</td>\n",
       "      <td>40.619999</td>\n",
       "      <td>39.189999</td>\n",
       "      <td>35177200</td>\n",
       "    </tr>\n",
       "    <tr>\n",
       "      <th>10857</th>\n",
       "      <td>22.780001</td>\n",
       "      <td>22.900000</td>\n",
       "      <td>22.389999</td>\n",
       "      <td>9404100</td>\n",
       "    </tr>\n",
       "    <tr>\n",
       "      <th>10858</th>\n",
       "      <td>33.750000</td>\n",
       "      <td>34.060001</td>\n",
       "      <td>33.580002</td>\n",
       "      <td>26179000</td>\n",
       "    </tr>\n",
       "    <tr>\n",
       "      <th>10859</th>\n",
       "      <td>91.010002</td>\n",
       "      <td>91.680000</td>\n",
       "      <td>89.970001</td>\n",
       "      <td>4675300</td>\n",
       "    </tr>\n",
       "  </tbody>\n",
       "</table>\n",
       "<p>10860 rows × 4 columns</p>\n",
       "</div>"
      ],
      "text/plain": [
       "             Open        High         Low    Volume\n",
       "0       26.299999   26.520000   25.959999  32642100\n",
       "1       95.550003   95.739998   94.019997   1826300\n",
       "2       54.770000   55.360001   54.590000   5656800\n",
       "3      125.589996  125.820000  123.660004   4151600\n",
       "4       20.709999   20.809999   20.670000  10489800\n",
       "...           ...         ...         ...       ...\n",
       "10855   51.660000   52.919998   49.919998     87000\n",
       "10856   39.549999   40.619999   39.189999  35177200\n",
       "10857   22.780001   22.900000   22.389999   9404100\n",
       "10858   33.750000   34.060001   33.580002  26179000\n",
       "10859   91.010002   91.680000   89.970001   4675300\n",
       "\n",
       "[10860 rows x 4 columns]"
      ]
     },
     "execution_count": 84,
     "metadata": {},
     "output_type": "execute_result"
    }
   ],
   "source": [
    "tst_d"
   ]
  },
  {
   "cell_type": "markdown",
   "id": "07491850",
   "metadata": {},
   "source": [
    "## 1)Linear Regression(with hyperparameter tunning)"
   ]
  },
  {
   "cell_type": "code",
   "execution_count": 81,
   "id": "a71bd3f1",
   "metadata": {},
   "outputs": [
    {
     "name": "stdout",
     "output_type": "stream",
     "text": [
      "`````````````Linear Regression````````````` \n",
      "\n",
      "{}\n",
      "0.9999892600004604\n"
     ]
    }
   ],
   "source": [
    "from sklearn.linear_model import LinearRegression\n",
    "lr=LinearRegression()\n",
    "from sklearn.model_selection import GridSearchCV\n",
    "\n",
    "parameters_lr={} \n",
    "l_search = GridSearchCV(lr,param_grid=parameters_lr,scoring='neg_mean_squared_error',cv=10,verbose=0)\n",
    "l_search.fit(X_train,y_train)\n",
    "print(\"`````````````Linear Regression`````````````\",'\\n')\n",
    "print(l_search.best_params_)\n",
    "\n",
    "print(l_search.best_estimator_.score(X_test,y_test))"
   ]
  },
  {
   "cell_type": "markdown",
   "id": "0542013a",
   "metadata": {},
   "source": [
    "### Acuracy Score"
   ]
  },
  {
   "cell_type": "code",
   "execution_count": 82,
   "id": "e95c3e1b",
   "metadata": {},
   "outputs": [
    {
     "name": "stdout",
     "output_type": "stream",
     "text": [
      "```````` Performamce of linear Regressor````````` \n",
      "\n",
      "Mean Absolute Error :  6.340856327152869\n",
      "Max Error : 2436.162059628812\n",
      "MSE : 5338.595112604257\n",
      "RMSE : 73.06569039298991\n",
      "Median Absolute Error : 0.1584002066943313\n",
      "Mean Absolute Percentage Error : 0.003618904904434548\n"
     ]
    }
   ],
   "source": [
    "from sklearn.metrics import max_error\n",
    "from sklearn.metrics import mean_absolute_error\n",
    "from sklearn.metrics import mean_squared_error\n",
    "from sklearn.metrics import median_absolute_error\n",
    "from sklearn.metrics import mean_absolute_percentage_error\n",
    "\n",
    "## prediction of model over test data\n",
    "pred_4=l_search.predict(X_test)\n",
    "predictions_4=pred_4.reshape(19547,1)\n",
    "\n",
    "print('```````` Performamce of linear Regressor`````````',\"\\n\")\n",
    "\n",
    "## Scoring Parameters calculation\n",
    "print(\"Mean Absolute Error : \",mean_absolute_error(y_test,pred_4,multioutput='uniform_average'))\n",
    "print(\"Max Error :\",max_error(y_test, pred_4))\n",
    "print(\"MSE :\",mean_squared_error(y_test,pred_4, squared=True))\n",
    "print(\"RMSE :\",mean_squared_error(y_test,pred_4, squared=False))\n",
    "print(\"Median Absolute Error :\",median_absolute_error(y_test,pred_4))\n",
    "print(\"Mean Absolute Percentage Error :\",mean_absolute_percentage_error(y_test,pred_4))"
   ]
  },
  {
   "cell_type": "code",
   "execution_count": 45,
   "id": "e35c06d6",
   "metadata": {
    "scrolled": true
   },
   "outputs": [
    {
     "data": {
      "text/plain": [
       "[<matplotlib.lines.Line2D at 0x1fa627a68b0>]"
      ]
     },
     "execution_count": 45,
     "metadata": {},
     "output_type": "execute_result"
    },
    {
     "data": {
      "image/png": "[encoded data removed]",
      "text/plain": [
       "<Figure size 432x288 with 1 Axes>"
      ]
     },
     "metadata": {
      "needs_background": "light"
     },
     "output_type": "display_data"
    }
   ],
   "source": [
    "## Plot between actual value and predicted value\n",
    "import matplotlib.pyplot as plt\n",
    "%matplotlib inline\n",
    "  \n",
    "plt.plot(y_test,color='red')\n",
    "plt.plot(pred_4,color='blue')"
   ]
  },
  {
   "cell_type": "code",
   "execution_count": null,
   "id": "67c2f7a7",
   "metadata": {},
   "outputs": [],
   "source": []
  },
  {
   "cell_type": "code",
   "execution_count": 87,
   "id": "7fb2163b",
   "metadata": {},
   "outputs": [],
   "source": [
    "#saving the labels\n",
    "pred_orig=l_search.predict(tst_d)\n",
    "labels = open(\"Kunal_Shaw_Label_file.txt\", \"w+\")\n",
    "for i in range(len(pred_orig)):\n",
    "    labels.write(str(\"d\")+str(int(i+1))+\",\"+str(float(pred_orig[i])) + \"\\n\")"
   ]
  },
  {
   "cell_type": "code",
   "execution_count": null,
   "id": "fa8c73ee",
   "metadata": {},
   "outputs": [],
   "source": []
  },
  {
   "cell_type": "code",
   "execution_count": null,
   "id": "1e8dc3bb",
   "metadata": {},
   "outputs": [],
   "source": []
  },
  {
   "cell_type": "markdown",
   "id": "a79eb97f",
   "metadata": {},
   "source": [
    "## 2)Support Vector Machine Regression"
   ]
  },
  {
   "cell_type": "code",
   "execution_count": 25,
   "id": "31204515",
   "metadata": {},
   "outputs": [
    {
     "data": {
      "text/plain": [
       "SVR(C=0.8, epsilon=0.2, kernel='poly')"
      ]
     },
     "execution_count": 25,
     "metadata": {},
     "output_type": "execute_result"
    }
   ],
   "source": [
    "from sklearn import svm\n",
    "clf = svm.SVR(C=0.8, epsilon=0.2, kernel='poly')\n",
    "clf.fit(X_train, y_train)"
   ]
  },
  {
   "cell_type": "code",
   "execution_count": 26,
   "id": "c5c4c068",
   "metadata": {},
   "outputs": [
    {
     "name": "stdout",
     "output_type": "stream",
     "text": [
      "```````` Performamce of Support Vector machine   Regressor````````` \n",
      "\n",
      "Mean Absolute Error :  2249.9689147600616\n",
      "Max Error : 270353.7898486571\n",
      "RMSE : 21325.78373357438\n",
      "Median Absolute Error : 27.86579994919775\n",
      "Mean Absolute Percentage Error : 15254720040652.16\n"
     ]
    }
   ],
   "source": [
    "from sklearn.metrics import max_error\n",
    "from sklearn.metrics import mean_absolute_error\n",
    "from sklearn.metrics import mean_squared_error\n",
    "from sklearn.metrics import median_absolute_error\n",
    "from sklearn.metrics import mean_absolute_percentage_error\n",
    "\n",
    "\n",
    "predict=clf.predict(X_test)\n",
    "print('```````` Performamce of Support Vector machine   Regressor`````````',\"\\n\")\n",
    "\n",
    "## Scoring Parameters calculation\n",
    "print(\"Mean Absolute Error : \",mean_absolute_error(y_test,predict,multioutput='uniform_average'))\n",
    "print(\"Max Error :\",max_error(y_test, predict))\n",
    "print(\"RMSE :\",mean_squared_error(y_test,predict, squared=False))\n",
    "print(\"Median Absolute Error :\",median_absolute_error(y_test,predict))\n",
    "print(\"Mean Absolute Percentage Error :\",mean_absolute_percentage_error(y_test,predict))"
   ]
  },
  {
   "cell_type": "code",
   "execution_count": null,
   "id": "ce18d23d",
   "metadata": {},
   "outputs": [],
   "source": []
  },
  {
   "cell_type": "code",
   "execution_count": null,
   "id": "35cac1bb",
   "metadata": {},
   "outputs": [],
   "source": []
  },
  {
   "cell_type": "code",
   "execution_count": null,
   "id": "da3918fc",
   "metadata": {},
   "outputs": [],
   "source": []
  },
  {
   "cell_type": "code",
   "execution_count": null,
   "id": "45e234f4",
   "metadata": {},
   "outputs": [],
   "source": []
  },
  {
   "cell_type": "markdown",
   "id": "d6e1756f",
   "metadata": {},
   "source": [
    "## 3)Decision Tree Regression (with  GridSearch Hyperparameter Tunning)\n"
   ]
  },
  {
   "cell_type": "code",
   "execution_count": 26,
   "id": "69a64d76",
   "metadata": {},
   "outputs": [
    {
     "name": "stdout",
     "output_type": "stream",
     "text": [
      "{'criterion': 'friedman_mse', 'max_depth': 20, 'max_features': 'auto', 'max_leaf_nodes': None, 'min_samples_leaf': 3, 'splitter': 'best'}\n",
      "DecisionTreeRegressor(criterion='friedman_mse', max_depth=20,\n",
      "                      max_features='auto', min_samples_leaf=3, random_state=0)\n",
      "0.9999735868876305\n"
     ]
    }
   ],
   "source": [
    "from sklearn.model_selection import GridSearchCV\n",
    "parameters={\"criterion\":[\"quared_error\",\"friedman_mse\", \"absolute_error\", \"poisson\"],\n",
    "            \"splitter\":[\"best\",\"random\"],\n",
    "            \"max_depth\" : [1,5,20,50],\n",
    "           \"min_samples_leaf\":[1,2,3,4,5,6,7,8,9,10],\n",
    "           \"max_features\":[\"auto\",\"log2\",\"sqrt\"], #auto and None work the same\n",
    "           \"max_leaf_nodes\":[None,10,20,30,40] }\n",
    "\n",
    "from sklearn.tree import DecisionTreeRegressor\n",
    "rgr = DecisionTreeRegressor(random_state=0)\n",
    "tuning_model=GridSearchCV(rgr,param_grid=parameters,scoring='neg_mean_squared_error',cv=5,verbose=0)\n",
    "tuning_model.fit(X_train,y_train)\n",
    "\n",
    "print(tuning_model.best_params_)\n",
    "print(tuning_model.best_estimator_)\n",
    "print(tuning_model.best_estimator_.score(X_test,y_test))"
   ]
  },
  {
   "cell_type": "markdown",
   "id": "9c236bb8",
   "metadata": {},
   "source": [
    "### Performace Metric"
   ]
  },
  {
   "cell_type": "code",
   "execution_count": 29,
   "id": "deac8f0f",
   "metadata": {},
   "outputs": [
    {
     "name": "stdout",
     "output_type": "stream",
     "text": [
      "Mean Absolute Percentage Error : 155134995093.6831\n",
      "Mean Absolute Error :  9.819528629527882\n",
      "Max Error : 3753.5\n",
      "RMSE : 114.2955689251889\n",
      "Median Absolute Error : 0.18400120000000086\n"
     ]
    }
   ],
   "source": [
    "from sklearn.metrics import max_error\n",
    "from sklearn.metrics import mean_absolute_error\n",
    "from sklearn.metrics import mean_squared_error\n",
    "from sklearn.metrics import median_absolute_error\n",
    "from sklearn.metrics import mean_absolute_percentage_error\n",
    "\n",
    "## prediction of model over test data\n",
    "pred_0=tuning_model.predict(X_test)\n",
    "predictions=pred.reshape(19547,1)\n",
    "\n",
    "## Scoring Parameters calculation\n",
    "print(\"Mean Absolute Percentage Error :\",mean_absolute_percentage_error(y_test,pred_0))\n",
    "print(\"Mean Absolute Error : \",mean_absolute_error(y_test,pred_0,multioutput='uniform_average'))\n",
    "print(\"Max Error :\",max_error(y_test, pred_0))\n",
    "print(\"RMSE :\",mean_squared_error(y_test,pred_0, squared=False))\n",
    "print(\"Median Absolute Error :\",median_absolute_error(y_test,pred_0))"
   ]
  },
  {
   "cell_type": "code",
   "execution_count": null,
   "id": "18da498d",
   "metadata": {},
   "outputs": [],
   "source": []
  },
  {
   "cell_type": "code",
   "execution_count": null,
   "id": "54d66565",
   "metadata": {},
   "outputs": [],
   "source": []
  },
  {
   "cell_type": "code",
   "execution_count": null,
   "id": "39d96d95",
   "metadata": {},
   "outputs": [],
   "source": []
  },
  {
   "cell_type": "code",
   "execution_count": null,
   "id": "6127aa6f",
   "metadata": {},
   "outputs": [],
   "source": []
  },
  {
   "cell_type": "markdown",
   "id": "82e18091",
   "metadata": {},
   "source": [
    "## 4)Random Forest Regression ( with GridSearch Hyper parameter tunning)"
   ]
  },
  {
   "cell_type": "code",
   "execution_count": 155,
   "id": "78a19527",
   "metadata": {
    "scrolled": false
   },
   "outputs": [
    {
     "name": "stdout",
     "output_type": "stream",
     "text": [
      "{'bootstrap': True, 'max_depth': 20, 'max_features': 'auto', 'n_estimators': 13}\n",
      "`````````````Random Forest Regression`````````````\n",
      "0.9999783545701422\n"
     ]
    }
   ],
   "source": [
    "from sklearn.ensemble import RandomForestRegressor\n",
    "from sklearn.model_selection import GridSearchCV\n",
    "RFR = RandomForestRegressor(random_state = 1)\n",
    "parameters_rfr={'n_estimators': [5, 6, 7, 8, 9, 10, 11, 12, 13, 15],\n",
    "               #'splitter':['best','random'],\n",
    "               'max_depth' : [5,20],\n",
    "            #'min_samples_split': [2,4,5,6],\n",
    "            #'min_samples_leaf':[1,2,3,4,5,6,7,8,9,10],\n",
    "            'bootstrap': [True,False],\n",
    "           'max_features':['auto','log2','sqrt'], #auto and None work the same\n",
    "           #'max_leaf_nodes':[None,10,20,30,40],\n",
    "               #'criterion':['mse','mae']\n",
    "               }\n",
    "\n",
    "\n",
    "g_search = GridSearchCV(RFR,param_grid=parameters_rfr,scoring='neg_mean_squared_error',cv=3,verbose=0)\n",
    "g_search.fit(X_train,y_train)\n",
    "print(g_search.best_params_)\n",
    "print(\"`````````````Random Forest Regression`````````````\")#print(tuning_model.best_estimator_)\n",
    "print(g_search.best_estimator_.score(X_test,y_test))"
   ]
  },
  {
   "cell_type": "markdown",
   "id": "3df5677b",
   "metadata": {},
   "source": [
    "### Performance Metric"
   ]
  },
  {
   "cell_type": "code",
   "execution_count": 159,
   "id": "29519407",
   "metadata": {},
   "outputs": [
    {
     "name": "stdout",
     "output_type": "stream",
     "text": [
      "```````` Performamce of Random Forest Regressor````````` \n",
      "\n",
      "Mean Absolute Error :  4.3697234370150575\n",
      "Max Error : 5644.0\n",
      "RMSE : 72.93806105499273\n",
      "Median Absolute Error : 0.05666866666665271\n",
      "Mean Absolute Percentage Error : 0.001956735711164968\n"
     ]
    }
   ],
   "source": [
    "from sklearn.metrics import max_error\n",
    "from sklearn.metrics import mean_absolute_error\n",
    "from sklearn.metrics import mean_squared_error\n",
    "from sklearn.metrics import median_absolute_error\n",
    "from sklearn.metrics import mean_absolute_percentage_error\n",
    "\n",
    "## prediction of model over test data\n",
    "pred_1=tuning_model.predict(X_test)\n",
    "predictions=pred_1.reshape(19547,1)\n",
    "\n",
    "print('```````` Performamce of Random Forest Regressor`````````',\"\\n\")\n",
    "\n",
    "## Scoring Parameters calculation\n",
    "print(\"Mean Absolute Error : \",mean_absolute_error(y_test,pred_1,multioutput='uniform_average'))\n",
    "print(\"Max Error :\",max_error(y_test, pred_1))\n",
    "print(\"RMSE :\",mean_squared_error(y_test,pred_1, squared=False))\n",
    "print(\"Median Absolute Error :\",median_absolute_error(y_test,pred_1))\n",
    "print(\"Mean Absolute Percentage Error :\",mean_absolute_percentage_error(y_test,pred_1))\n"
   ]
  },
  {
   "cell_type": "code",
   "execution_count": null,
   "id": "99b3dd3c",
   "metadata": {},
   "outputs": [],
   "source": []
  },
  {
   "cell_type": "code",
   "execution_count": null,
   "id": "2f2acfe0",
   "metadata": {},
   "outputs": [],
   "source": []
  },
  {
   "cell_type": "code",
   "execution_count": null,
   "id": "f7dd43b8",
   "metadata": {},
   "outputs": [],
   "source": []
  },
  {
   "cell_type": "markdown",
   "id": "328d88a7",
   "metadata": {},
   "source": [
    "## 5)KNN Regression ( with Grid Search Hyper Parmeter Tunning)"
   ]
  },
  {
   "cell_type": "code",
   "execution_count": 26,
   "id": "a0d5e636",
   "metadata": {},
   "outputs": [
    {
     "name": "stdout",
     "output_type": "stream",
     "text": [
      "`````````````KNN Regression````````````` \n",
      "\n",
      "{'algorithm': 'brute', 'n_neighbors': 2}\n",
      "0.9999564486759063\n"
     ]
    }
   ],
   "source": [
    "from sklearn.neighbors import KNeighborsRegressor\n",
    "from sklearn.model_selection import GridSearchCV\n",
    "KNN = KNeighborsRegressor()\n",
    "parameters_knn={\n",
    "    'n_neighbors':[2, 3, 5, 7, 10],\n",
    "    'algorithm':['auto', 'ball_tree', 'kd_tree', 'brute']\n",
    "\n",
    "               }\n",
    "\n",
    "\n",
    "k_search = GridSearchCV(KNN,param_grid=parameters_knn,scoring='neg_mean_squared_error',cv=3,verbose=0)\n",
    "k_search.fit(X_train,y_train)\n",
    "print(\"`````````````KNN Regression`````````````\",'\\n')\n",
    "print(k_search.best_params_)\n",
    "\n",
    "print(k_search.best_estimator_.score(X_test,y_test))"
   ]
  },
  {
   "cell_type": "markdown",
   "id": "01c56918",
   "metadata": {},
   "source": [
    "### Performance Metric"
   ]
  },
  {
   "cell_type": "code",
   "execution_count": 27,
   "id": "55c4d56e",
   "metadata": {},
   "outputs": [
    {
     "name": "stdout",
     "output_type": "stream",
     "text": [
      "```````` Performamce of KNN Regressor````````` \n",
      "\n",
      "Mean Absolute Error :  46.43713828165448\n",
      "Max Error : 4371.5\n",
      "RMSE : 146.84902733298117\n",
      "Median Absolute Error : 21.434999499999996\n",
      "Mean Absolute Percentage Error : 0.5338784860167518\n"
     ]
    }
   ],
   "source": [
    "from sklearn.metrics import max_error\n",
    "from sklearn.metrics import mean_absolute_error\n",
    "from sklearn.metrics import mean_squared_error\n",
    "from sklearn.metrics import median_absolute_error\n",
    "from sklearn.metrics import mean_absolute_percentage_error\n",
    "\n",
    "## prediction of model over test data\n",
    "pred_3=k_search.predict(X_test)\n",
    "predictions_3=pred_3.reshape(19547,1)\n",
    "\n",
    "print('```````` Performamce of KNN Regressor`````````',\"\\n\")\n",
    "\n",
    "## Scoring Parameters calculation\n",
    "print(\"Mean Absolute Error : \",mean_absolute_error(y_test,pred_3,multioutput='uniform_average'))\n",
    "print(\"Max Error :\",max_error(y_test, pred_3))\n",
    "print(\"RMSE :\",mean_squared_error(y_test,pred_3, squared=False))\n",
    "print(\"Median Absolute Error :\",median_absolute_error(y_test,pred_3))\n",
    "print(\"Mean Absolute Percentage Error :\",mean_absolute_percentage_error(y_test,pred_3))\n",
    "\n"
   ]
  },
  {
   "cell_type": "code",
   "execution_count": null,
   "id": "46e41064",
   "metadata": {},
   "outputs": [],
   "source": []
  },
  {
   "cell_type": "code",
   "execution_count": null,
   "id": "cd39fd78",
   "metadata": {},
   "outputs": [],
   "source": [
    "Hence considering the scoring parameter we observe that Linear Regression perform best above"
   ]
  }
 ],
 "metadata": {
  "kernelspec": {
   "display_name": "Python 3",
   "language": "python",
   "name": "python3"
  },
  "language_info": {
   "codemirror_mode": {
    "name": "ipython",
    "version": 3
   },
   "file_extension": ".py",
   "mimetype": "text/x-python",
   "name": "python",
   "nbconvert_exporter": "python",
   "pygments_lexer": "ipython3",
   "version": "3.8.8"
  }
 },
 "nbformat": 4,
 "nbformat_minor": 5
}
